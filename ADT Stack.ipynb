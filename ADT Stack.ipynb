{
 "cells": [
  {
   "cell_type": "markdown",
   "metadata": {},
   "source": [
    "## Compare List & Dict"
   ]
  },
  {
   "cell_type": "markdown",
   "metadata": {},
   "source": [
    "| Function   | list              | dict                  |\n",
    "|--------|-------------------|-----------------------|\n",
    "| create   | direct assign: integer i         | non-direct assign[key]     |\n",
    "| add   | append, extend, insert | b[k]=v           |\n",
    "| delete   | pop, remove*      | pop                   |\n",
    "| update   | a[i]=v            | b[k]=v                |\n",
    "| index   | a[i], a[i:j]      | b[k], copy            |\n",
    "| position   | index(v), count(v) | --                   |\n",
    "| other   | reverse, sort     | has_key, update       |\n"
   ]
  },
  {
   "cell_type": "markdown",
   "metadata": {},
   "source": [
    "## Stack"
   ]
  },
  {
   "cell_type": "markdown",
   "metadata": {},
   "source": [
    "| Stack Operation | Stack Contents        | Return Value  |\n",
    "|-----------------|-----------------------|---------------|\n",
    "| s = Stack()     | []                    | Stack object  |\n",
    "| s.isEmpty()     | []                    | True          |\n",
    "| s.push(4)       | [4]                   |               |\n",
    "| s.push('dog')   | [4, 'dog']            |               |\n",
    "| s.peek()        | [4, 'dog']            | 'dog'         |\n",
    "| s.push(True)    | [4, 'dog', True]      |               |\n",
    "| s.size()        | [4, 'dog', True]      | 3             |\n",
    "| s.isEmpty()     | [4, 'dog', True]      | False         |\n",
    "| s.push(8.4)     | [4, 'dog', True, 8.4] |               |\n",
    "| s.pop()         | [4, 'dog', True]      | 8.4           |\n",
    "| s.pop()         | [4, 'dog']            | True          |\n",
    "| s.size()        | [4, 'dog']            | 2             |\n"
   ]
  },
  {
   "cell_type": "markdown",
   "metadata": {},
   "source": [
    "## ADT Stack"
   ]
  },
  {
   "cell_type": "code",
   "execution_count": 2,
   "metadata": {},
   "outputs": [],
   "source": [
    "class Stack:\n",
    "    def __init__(self):\n",
    "        self.items = []\n",
    "\n",
    "    def isEmpty(self):\n",
    "        return self.items == []\n",
    "\n",
    "    def push(self,item):\n",
    "        self.items.append(item)\n",
    "\n",
    "    def pop(self):\n",
    "        return self.items.pop()\n",
    "    \n",
    "    def peek(self):\n",
    "        return self.items[len(self.items)-1]\n",
    "    \n",
    "    def size(self):\n",
    "        return len(self.items)"
   ]
  },
  {
   "cell_type": "markdown",
   "metadata": {},
   "source": [
    "## Check parenthesis correct or not"
   ]
  },
  {
   "cell_type": "code",
   "execution_count": 8,
   "metadata": {},
   "outputs": [],
   "source": [
    "from pythonds.basic.stack import Stack"
   ]
  },
  {
   "cell_type": "code",
   "execution_count": 15,
   "metadata": {},
   "outputs": [],
   "source": [
    "def parChecker(symbolString):\n",
    "    s = Stack()\n",
    "    balanced = True\n",
    "    i = 0\n",
    "    while i < len(symbolString) and balanced:\n",
    "        symbol = symbolString[i]\n",
    "        if symbol == '(':\n",
    "            s.push(symbol)\n",
    "        else:\n",
    "            if s.isEmpty():\n",
    "                balanced = False\n",
    "            else:\n",
    "                s.pop()\n",
    "        i += 1\n",
    "    if balanced and s.isEmpty():\n",
    "        return True\n",
    "    else:\n",
    "        return False"
   ]
  },
  {
   "cell_type": "code",
   "execution_count": 17,
   "metadata": {},
   "outputs": [
    {
     "name": "stdout",
     "output_type": "stream",
     "text": [
      "False\n"
     ]
    }
   ],
   "source": [
    "print(parChecker('(()))))'))"
   ]
  },
  {
   "cell_type": "code",
   "execution_count": null,
   "metadata": {},
   "outputs": [],
   "source": []
  }
 ],
 "metadata": {
  "kernelspec": {
   "display_name": "Python 3",
   "language": "python",
   "name": "python3"
  },
  "language_info": {
   "codemirror_mode": {
    "name": "ipython",
    "version": 3
   },
   "file_extension": ".py",
   "mimetype": "text/x-python",
   "name": "python",
   "nbconvert_exporter": "python",
   "pygments_lexer": "ipython3",
   "version": "3.7.4"
  }
 },
 "nbformat": 4,
 "nbformat_minor": 2
}
