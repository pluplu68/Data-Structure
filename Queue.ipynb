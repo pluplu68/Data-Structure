{
 "cells": [
  {
   "cell_type": "markdown",
   "metadata": {},
   "source": [
    "# Operation Sample"
   ]
  },
  {
   "cell_type": "markdown",
   "metadata": {},
   "source": [
    "input $\\rightarrow$ rear $\\rightarrow$ front $\\rightarrow$ output"
   ]
  },
  {
   "cell_type": "markdown",
   "metadata": {},
   "source": [
    "| Function Call   | Queue Content     | Return Value |\n",
    "|-----------------|-------------------|--------------|\n",
    "| q=Queue()       | [ ]                | Queue object |\n",
    "| q.isEmpty()     | [ ]                | True         |\n",
    "| q.enqueue(4)    | [4]               |              |\n",
    "| q.enqueue('dog')| ['dog', 4]        |              |\n",
    "| q.enqueue(True) | [True, 'dog', 4]  |              |\n",
    "| q.size()        | [True, 'dog', 4]  | 3            |\n",
    "| q.isEmpty()     | [True, 'dog', 4]  | False        |\n",
    "| q.enqueue(8.4)  | [8.4, True, 'dog', 4] |          |\n",
    "| q.dequeue()     | [8.4, True, 'dog']| 4            |\n",
    "| q.dequeue()     | [8.4, True]       | 'dog'        |\n",
    "| q.size()        | [8.4, True]       | 2            |\n"
   ]
  },
  {
   "cell_type": "code",
   "execution_count": 1,
   "metadata": {},
   "outputs": [],
   "source": [
    "class Queue:\n",
    "    def __init__ (self):\n",
    "        self.items = []\n",
    "    \n",
    "    def isEmpty(self):\n",
    "        return self.items == []\n",
    "        \n",
    "    def enqueue(self, item):\n",
    "        self.items.insert(0,item)\n",
    "    \n",
    "    def dequeue(self):\n",
    "        return self.items.pop()\n",
    "    \n",
    "    def size(self):\n",
    "        return len(self.items)"
   ]
  },
  {
   "cell_type": "markdown",
   "metadata": {},
   "source": [
    "# Josephus problem"
   ]
  },
  {
   "cell_type": "code",
   "execution_count": 2,
   "metadata": {},
   "outputs": [],
   "source": [
    "from pythonds.basic.queue import Queue"
   ]
  },
  {
   "cell_type": "code",
   "execution_count": 3,
   "metadata": {},
   "outputs": [],
   "source": [
    "def hotPotato(namelist, num):\n",
    "    simqueue = Queue() #mock the queue\n",
    "    for name in namelist:\n",
    "        simqueue.enqueue(name)\n",
    "    \n",
    "    while simqueue.size() > 1:\n",
    "        for i in range(num):\n",
    "            simqueue.enqueue(simqueue.dequeue()) #one trans\n",
    "        simqueue.dequeue()  # after n loop, remove the one at front\n",
    "    \n",
    "    return simqueue.dequeue()"
   ]
  },
  {
   "cell_type": "code",
   "execution_count": 4,
   "metadata": {},
   "outputs": [
    {
     "name": "stdout",
     "output_type": "stream",
     "text": [
      "de\n"
     ]
    }
   ],
   "source": [
    "print(hotPotato(['b','ahe','de','hass'],8))"
   ]
  },
  {
   "cell_type": "markdown",
   "metadata": {},
   "source": [
    "# Printer Task"
   ]
  },
  {
   "cell_type": "markdown",
   "metadata": {},
   "source": [
    "* 创建打印队列对象\n",
    "\n",
    "* 时间按照秒的单位流逝\n",
    "    * 按照概率生成打印作业，加入打印队列\n",
    "    * 如果打印机空闲，且队列不空，则取出队首作业打印，记录此作业等待时间\n",
    "    * 如果打印机忙，则按照打印速度进行1秒打印\n",
    "    * 如果当前作业打印完成，则打印机进入空闲\n",
    "\n",
    "* 时间用尽，开始统计平均等待时间"
   ]
  },
  {
   "cell_type": "markdown",
   "metadata": {},
   "source": [
    "* 作业的等待时间\n",
    "  * 生成作业时，记录生成的时间戳\n",
    "  * 开始打印时，当前时间减去生成时间即可\n",
    "\n",
    "* 作业的打印时间\n",
    "  * 生成作业时，记录作业的页数开始打印时，页数除以打印速度即可"
   ]
  },
  {
   "cell_type": "code",
   "execution_count": 5,
   "metadata": {},
   "outputs": [],
   "source": [
    "from pythonds.basic.queue import Queue\n",
    "\n",
    "import random"
   ]
  },
  {
   "cell_type": "code",
   "execution_count": 16,
   "metadata": {},
   "outputs": [],
   "source": [
    "class Printer: #set up printer\n",
    "    def __init__(self, ppm):\n",
    "        self.pagerate = ppm\n",
    "        self.currentTask = None\n",
    "        self.timeRemaining = 0\n",
    "    \n",
    "    def tick(self): # print for 1 sec \n",
    "        if self.currentTask != None:\n",
    "            self.timeRemaining = self.timeRemaining - 1\n",
    "            if self.timeRemaining <= 0:\n",
    "                self.currentTask = None\n",
    "    \n",
    "    def busy(self): #check if printer is working/busy\n",
    "        if self.currentTask == None:\n",
    "            return False\n",
    "        else:\n",
    "            return True\n",
    "        \n",
    "    def startNext(self, newTask): # print new task\n",
    "        self.currentTask = newTask\n",
    "        self.timeRemaining = newTask.getPages() * 60 / self.pagerate #how many pages for sec"
   ]
  },
  {
   "cell_type": "code",
   "execution_count": 17,
   "metadata": {},
   "outputs": [],
   "source": [
    "class Task: #print work setup\n",
    "    def __init__(self,time):\n",
    "        self.timeStamp = time  #get time\n",
    "        self.pages = random.randrange(1,21) #random generate pages for each print task\n",
    "    \n",
    "    def getStamp(self):\n",
    "        return self.timeStamp\n",
    "    \n",
    "    def getPages(self):\n",
    "        return self.pages\n",
    "    \n",
    "    def waitTime(self,currenttime):\n",
    "        return currenttime - self.timeStamp\n"
   ]
  },
  {
   "cell_type": "code",
   "execution_count": 18,
   "metadata": {},
   "outputs": [],
   "source": [
    "def newPrintTask():\n",
    "    num = random.randrange(1,181)\n",
    "    if num == 1: #assign a number whose prob = 1/180\n",
    "        return True\n",
    "    else:\n",
    "        return False"
   ]
  },
  {
   "cell_type": "code",
   "execution_count": 19,
   "metadata": {},
   "outputs": [],
   "source": [
    "def simulation(numSeconds, pagesPerMin): #simulate, setup how long time, and printer's rate\n",
    "    labPrinter = Printer(pagesPerMin)\n",
    "    printQueue = Queue()\n",
    "    waitingTimes = []\n",
    "\n",
    "    # check how everything changes in each second\n",
    "    for currentSecond in range(numSeconds):\n",
    "        \n",
    "        # check if there is new task\n",
    "        if newPrintTask():\n",
    "            task = Task(currentSecond)\n",
    "            printQueue.enqueue(task)\n",
    "        \n",
    "        # printer is working + new task in queue\n",
    "        if (not labPrinter.busy()) and (not printQueue.isEmpty()):\n",
    "            nextTask = printQueue.dequeue() #start next task\n",
    "            waitingTimes.append(task.waitTime(currentSecond))\n",
    "            labPrinter.startNext(nextTask)\n",
    "\n",
    "        labPrinter.tick() #print for 1 sec\n",
    "\n",
    "    averageWait = sum(waitingTimes) / len(waitingTimes)\n",
    "    print(\"Average wait %6.2f sec %3d tasks remaining.\" %(averageWait, printQueue.size()))\n",
    "            # %6.2f: 6 specifies the minimum width of the output string, meaning the number will be right-justified \n",
    "            # within a field 6 characters wide. 2f means that two digits will appear after the decimal point.\n",
    "            # %3d: the integer will be right-justified within a field 3 characters wide."
   ]
  },
  {
   "cell_type": "code",
   "execution_count": 23,
   "metadata": {},
   "outputs": [
    {
     "name": "stdout",
     "output_type": "stream",
     "text": [
      "Average wait   3.74 sec   0 tasks remaining.\n",
      "Average wait   9.50 sec   0 tasks remaining.\n",
      "Average wait   2.07 sec   0 tasks remaining.\n",
      "Average wait   9.18 sec   0 tasks remaining.\n",
      "Average wait   2.39 sec   0 tasks remaining.\n",
      "Average wait   3.75 sec   0 tasks remaining.\n",
      "Average wait   0.83 sec   0 tasks remaining.\n",
      "Average wait   6.70 sec   0 tasks remaining.\n",
      "Average wait   1.55 sec   0 tasks remaining.\n",
      "Average wait   0.28 sec   0 tasks remaining.\n"
     ]
    }
   ],
   "source": [
    "for i in range(10):\n",
    "    simulation(3000,20)"
   ]
  },
  {
   "cell_type": "markdown",
   "metadata": {},
   "source": [
    "# Double-Ended queue"
   ]
  },
  {
   "cell_type": "markdown",
   "metadata": {},
   "source": [
    "* = Stack & queue"
   ]
  },
  {
   "cell_type": "markdown",
   "metadata": {},
   "source": [
    "| Operation        | Result                | Output        |\n",
    "|------------------|-----------------------|---------------|\n",
    "| d=Deque()        | []                    | Deque object  |\n",
    "| d.isEmpty()      | []                    | True          |\n",
    "| d.addRear(4)     | [4]                   |               |\n",
    "| d.addRear(dog)   | [dog, 4]              |               |\n",
    "| d.addFront(cat)  | [dog, 4, cat]         |               |\n",
    "| d.addFront(True) | [dog, 4, cat, True]   |               |\n",
    "| d.size()         | [dog, 4, cat, True]   | 4             |\n",
    "| d.isEmpty()      | [dog, 4, cat, True]   | False         |\n",
    "| d.addRear(8.4)   | [8.4, dog, 4, cat, True] |             |\n",
    "| d.removeRear()   | [dog, 4, cat, True]   | 8.4           |\n",
    "| d.removeFront()  | [dog, 4, cat]         | True          |\n",
    " "
   ]
  },
  {
   "cell_type": "code",
   "execution_count": 24,
   "metadata": {},
   "outputs": [],
   "source": [
    "class Deque:\n",
    "    def __init__(self):\n",
    "        self.items =[]\n",
    "    def isEmpty(self):\n",
    "        return self.items ==[]\n",
    "    def addFront(self,item):\n",
    "        self.items.append(item)\n",
    "    def addRear(self,item):\n",
    "        self.items.insert(0,item)\n",
    "    def removeFront(self):\n",
    "        return self.items.pop()\n",
    "    def removeRear(self):\n",
    "        return self.items.pop(0)\n",
    "    def size(self):\n",
    "        return len(self.items)\n"
   ]
  },
  {
   "cell_type": "markdown",
   "metadata": {},
   "source": [
    "# palindrome"
   ]
  },
  {
   "cell_type": "code",
   "execution_count": 25,
   "metadata": {},
   "outputs": [],
   "source": [
    "from pythonds.basic.deque import Deque"
   ]
  },
  {
   "cell_type": "code",
   "execution_count": 26,
   "metadata": {},
   "outputs": [],
   "source": [
    "def palChecker(aString):\n",
    "    chardeque = Deque()\n",
    "\n",
    "    for ch in aString:\n",
    "        chardeque.addRear(ch) #把字符加入到队尾\n",
    "\n",
    "    stillEqual = True\n",
    "\n",
    "    while chardeque.size() > 1 and stillEqual:\n",
    "        first = chardeque.removeFront()\n",
    "        last = chardeque.removeRear()\n",
    "        if first != last:\n",
    "            stillEqual = False\n",
    "        \n",
    "    return stillEqual\n",
    "\n",
    "    "
   ]
  },
  {
   "cell_type": "code",
   "execution_count": 28,
   "metadata": {},
   "outputs": [
    {
     "name": "stdout",
     "output_type": "stream",
     "text": [
      "True\n"
     ]
    }
   ],
   "source": [
    "print(palChecker('hapah'))"
   ]
  },
  {
   "cell_type": "code",
   "execution_count": null,
   "metadata": {},
   "outputs": [],
   "source": []
  }
 ],
 "metadata": {
  "kernelspec": {
   "display_name": "Python 3",
   "language": "python",
   "name": "python3"
  },
  "language_info": {
   "codemirror_mode": {
    "name": "ipython",
    "version": 3
   },
   "file_extension": ".py",
   "mimetype": "text/x-python",
   "name": "python",
   "nbconvert_exporter": "python",
   "pygments_lexer": "ipython3",
   "version": "3.7.4"
  }
 },
 "nbformat": 4,
 "nbformat_minor": 2
}
