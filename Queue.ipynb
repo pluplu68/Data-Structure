{
 "cells": [
  {
   "cell_type": "markdown",
   "metadata": {},
   "source": [
    "# Operation Sample"
   ]
  },
  {
   "cell_type": "markdown",
   "metadata": {},
   "source": [
    "input $\\rightarrow$ rear $\\rightarrow$ front $\\rightarrow$ output"
   ]
  },
  {
   "cell_type": "markdown",
   "metadata": {},
   "source": [
    "| Function Call   | Queue Content     | Return Value |\n",
    "|-----------------|-------------------|--------------|\n",
    "| q=Queue()       | [ ]                | Queue object |\n",
    "| q.isEmpty()     | [ ]                | True         |\n",
    "| q.enqueue(4)    | [4]               |              |\n",
    "| q.enqueue('dog')| ['dog', 4]        |              |\n",
    "| q.enqueue(True) | [True, 'dog', 4]  |              |\n",
    "| q.size()        | [True, 'dog', 4]  | 3            |\n",
    "| q.isEmpty()     | [True, 'dog', 4]  | False        |\n",
    "| q.enqueue(8.4)  | [8.4, True, 'dog', 4] |          |\n",
    "| q.dequeue()     | [8.4, True, 'dog']| 4            |\n",
    "| q.dequeue()     | [8.4, True]       | 'dog'        |\n",
    "| q.size()        | [8.4, True]       | 2            |\n"
   ]
  },
  {
   "cell_type": "code",
   "execution_count": 1,
   "metadata": {},
   "outputs": [],
   "source": [
    "class Queue:\n",
    "    def __init__ (self):\n",
    "        self.items = []\n",
    "    \n",
    "    def isEmpty(self):\n",
    "        return self.items == []\n",
    "        \n",
    "    def enqueue(self, item):\n",
    "        self.items.insert(0,item)\n",
    "    \n",
    "    def dequeue(self):\n",
    "        return self.items.pop()\n",
    "    \n",
    "    def size(self):\n",
    "        return len(self.items)"
   ]
  },
  {
   "cell_type": "markdown",
   "metadata": {},
   "source": [
    "# Josephus problem"
   ]
  },
  {
   "cell_type": "code",
   "execution_count": 2,
   "metadata": {},
   "outputs": [],
   "source": [
    "from pythonds.basic.queue import Queue"
   ]
  },
  {
   "cell_type": "code",
   "execution_count": 3,
   "metadata": {},
   "outputs": [],
   "source": [
    "def hotPotato(namelist, num):\n",
    "    simqueue = Queue() #mock the queue\n",
    "    for name in namelist:\n",
    "        simqueue.enqueue(name)\n",
    "    \n",
    "    while simqueue.size() > 1:\n",
    "        for i in range(num):\n",
    "            simqueue.enqueue(simqueue.dequeue()) #one trans\n",
    "        simqueue.dequeue()  # after n loop, remove the one at front\n",
    "    \n",
    "    return simqueue.dequeue()"
   ]
  },
  {
   "cell_type": "code",
   "execution_count": 5,
   "metadata": {},
   "outputs": [
    {
     "name": "stdout",
     "output_type": "stream",
     "text": [
      "de\n"
     ]
    }
   ],
   "source": [
    "print(hotPotato(['b','ahe','de','hass'],8))"
   ]
  },
  {
   "cell_type": "markdown",
   "metadata": {},
   "source": [
    "# Printer Task"
   ]
  },
  {
   "cell_type": "markdown",
   "metadata": {},
   "source": [
    "* 创建打印队列对象\n",
    "\n",
    "* 时间按照秒的单位流逝\n",
    "    * 按照概率生成打印作业，加入打印队列\n",
    "    * 如果打印机空闲，且队列不空，则取出队首作业打印，记录此作业等待时间\n",
    "    * 如果打印机忙，则按照打印速度进行1秒打印\n",
    "    * 如果当前作业打印完成，则打印机进入空闲\n",
    "\n",
    "* 时间用尽，开始统计平均等待时间"
   ]
  },
  {
   "cell_type": "markdown",
   "metadata": {},
   "source": [
    "* 作业的等待时间\n",
    "  * 生成作业时，记录生成的时间戳\n",
    "  * 开始打印时，当前时间减去生成时间即可\n",
    "\n",
    "* 作业的打印时间\n",
    "  * 生成作业时，记录作业的页数开始打印时，页数除以打印速度即可"
   ]
  },
  {
   "cell_type": "code",
   "execution_count": 7,
   "metadata": {},
   "outputs": [],
   "source": [
    "from pythonds.basic.queue import Queue\n",
    "\n",
    "import random"
   ]
  },
  {
   "cell_type": "code",
   "execution_count": 8,
   "metadata": {},
   "outputs": [],
   "source": [
    "class Printer: #set up printer\n",
    "    def __init__(self, ppm):\n",
    "        self.pagerate = ppm\n",
    "        self.currentTask = None\n",
    "        self.timeRemaining = 0\n",
    "    \n",
    "    def tick(self): # print for 1 sec \n",
    "        if self.currentTask != None:\n",
    "            self.timeRemaining -= 1\n",
    "            if self.timeRemaining <= 0:\n",
    "                self.currentTask = None\n",
    "    \n",
    "    def busy(self): #check if printer is working/busy\n",
    "        if self.currentTask == None:\n",
    "            return True\n",
    "        else:\n",
    "            return False\n",
    "        \n",
    "    def startNext(self, newTask): # print new task\n",
    "        self.currentTask = newTask\n",
    "        self.timeRemaining = newTask.getPages() * 60 / self.pagerate #how many pages for sec"
   ]
  },
  {
   "cell_type": "code",
   "execution_count": 9,
   "metadata": {},
   "outputs": [],
   "source": [
    "class Task: #print work setup\n",
    "    def __init__(self):\n",
    "        self.timeStamp = time  #get time\n",
    "        self.pages = random.randrange(1,21) #random generate pages for each print task\n",
    "    \n",
    "    def getStamp(self):\n",
    "        return self.timeStamp\n",
    "    \n",
    "    def getPages(self):\n",
    "        return self.pages\n",
    "    \n",
    "    def waitTime(self,time):\n",
    "        return currenttime - self.timeStamp\n",
    "\n",
    "    def newPrintTask(self):\n",
    "        num = random.randrange(1,181)\n",
    "        if num == 1: #assign a number whose prob = 1/180\n",
    "            return True\n",
    "        else:\n",
    "            return False"
   ]
  },
  {
   "cell_type": "code",
   "execution_count": null,
   "metadata": {},
   "outputs": [],
   "source": [
    "def simulation(numSeconds, pagesPerMin): #simulate, setup how long time, and printer's rate\n",
    "    "
   ]
  }
 ],
 "metadata": {
  "kernelspec": {
   "display_name": "Python 3",
   "language": "python",
   "name": "python3"
  },
  "language_info": {
   "codemirror_mode": {
    "name": "ipython",
    "version": 3
   },
   "file_extension": ".py",
   "mimetype": "text/x-python",
   "name": "python",
   "nbconvert_exporter": "python",
   "pygments_lexer": "ipython3",
   "version": "3.7.4"
  }
 },
 "nbformat": 4,
 "nbformat_minor": 2
}
